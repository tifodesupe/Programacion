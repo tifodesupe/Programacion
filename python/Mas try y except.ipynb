{
 "cells": [
  {
   "cell_type": "code",
   "execution_count": 4,
   "metadata": {},
   "outputs": [
    {
     "name": "stdout",
     "output_type": "stream",
     "text": [
      "num0\n",
      "no se puede dividir por 0\n"
     ]
    }
   ],
   "source": [
    "try:\n",
    "    a = float(input(\"num\"))\n",
    "    print(10/a)\n",
    "except TypeError:\n",
    "    print(\"NUMERO\")\n",
    "except ZeroDivisionError:\n",
    "    print(\"no se puede dividir por 0\")"
   ]
  },
  {
   "cell_type": "code",
   "execution_count": 8,
   "metadata": {},
   "outputs": [],
   "source": [
    "def s(n=None):\n",
    "    try:\n",
    "        if n == None:\n",
    "            raise ValueError(\"coloca algo\")\n",
    "    except ValueError:\n",
    "        print(\"pon alguna cosa\")"
   ]
  },
  {
   "cell_type": "code",
   "execution_count": 9,
   "metadata": {},
   "outputs": [
    {
     "name": "stdout",
     "output_type": "stream",
     "text": [
      "pon alguna cosa\n"
     ]
    }
   ],
   "source": [
    "s()"
   ]
  },
  {
   "cell_type": "code",
   "execution_count": null,
   "metadata": {},
   "outputs": [],
   "source": []
  }
 ],
 "metadata": {
  "kernelspec": {
   "display_name": "Python 3",
   "language": "python",
   "name": "python3"
  },
  "language_info": {
   "codemirror_mode": {
    "name": "ipython",
    "version": 3
   },
   "file_extension": ".py",
   "mimetype": "text/x-python",
   "name": "python",
   "nbconvert_exporter": "python",
   "pygments_lexer": "ipython3",
   "version": "3.8.5"
  }
 },
 "nbformat": 4,
 "nbformat_minor": 4
}
