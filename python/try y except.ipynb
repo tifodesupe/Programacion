{
 "cells": [
  {
   "cell_type": "code",
   "execution_count": null,
   "metadata": {},
   "outputs": [
    {
     "name": "stdout",
     "output_type": "stream",
     "text": [
      "Introduce un num por favorks\n",
      "No ingresaste un num, intenta de nuevo\n",
      "Introduce un num por favor37\n",
      "El resultado es:  74.0\n",
      "sesion iniciada correctamente\n"
     ]
    }
   ],
   "source": [
    "while True:\n",
    "    try:\n",
    "        var = float(input(\"Introduce un num por favor\"))\n",
    "        a = 2\n",
    "        print(\"El resultado es: \", a*var)\n",
    "    except:\n",
    "        print(\"No ingresaste un num, intenta de nuevo\")\n",
    "    else:\n",
    "        print(\"sesion iniciada correctamente\")"
   ]
  },
  {
   "cell_type": "code",
   "execution_count": null,
   "metadata": {},
   "outputs": [],
   "source": [
    "def division(x,  y):\n",
    "    try:\n",
    "        return x / y\n",
    "    except ZeroDivisionError:\n",
    "        print(\"No se puede dividir por cero, se retorna un numero grande\")\n",
    "        return 9e99\n",
    "    except TypeError:\n",
    "        print(\"Solo puedo dividir números, se retorna 0\")\n",
    "        return 0\n",
    "    "
   ]
  },
  {
   "cell_type": "code",
   "execution_count": null,
   "metadata": {},
   "outputs": [],
   "source": [
    "print(division(4, 2))"
   ]
  },
  {
   "cell_type": "code",
   "execution_count": null,
   "metadata": {},
   "outputs": [],
   "source": [
    "print(division(4, 0))"
   ]
  },
  {
   "cell_type": "code",
   "execution_count": null,
   "metadata": {},
   "outputs": [],
   "source": [
    "print(division(4, '1'))"
   ]
  },
  {
   "cell_type": "code",
   "execution_count": null,
   "metadata": {},
   "outputs": [],
   "source": [
    "v = 0\n",
    "a = 0\n",
    "print(division(a, v))"
   ]
  },
  {
   "cell_type": "code",
   "execution_count": null,
   "metadata": {},
   "outputs": [],
   "source": []
  }
 ],
 "metadata": {
  "kernelspec": {
   "display_name": "Python 3",
   "language": "python",
   "name": "python3"
  },
  "language_info": {
   "codemirror_mode": {
    "name": "ipython",
    "version": 3
   },
   "file_extension": ".py",
   "mimetype": "text/x-python",
   "name": "python",
   "nbconvert_exporter": "python",
   "pygments_lexer": "ipython3",
   "version": "3.8.5"
  }
 },
 "nbformat": 4,
 "nbformat_minor": 4
}
