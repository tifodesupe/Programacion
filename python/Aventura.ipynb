{
 "cells": [
  {
   "cell_type": "code",
   "execution_count": null,
   "metadata": {},
   "outputs": [
    {
     "name": "stdout",
     "output_type": "stream",
     "text": [
      "aventura\n",
      "escribe empezar: empezar\n",
      "caminos a elegir\n",
      "    1 - saludame\n",
      "    2 - quiero multiplicar\n",
      "    3 - quiero sumar\n",
      "    4 - quiero cerrar el progarama\n",
      "elige un camino5\n",
      "esa no es una opcion\n",
      "caminos a elegir\n",
      "    1 - saludame\n",
      "    2 - quiero multiplicar\n",
      "    3 - quiero sumar\n",
      "    4 - quiero cerrar el progarama\n",
      "elige un camino5\n",
      "esa no es una opcion\n",
      "caminos a elegir\n",
      "    1 - saludame\n",
      "    2 - quiero multiplicar\n",
      "    3 - quiero sumar\n",
      "    4 - quiero cerrar el progarama\n"
     ]
    }
   ],
   "source": [
    "print(\"aventura\")\n",
    "inicio = input(\"escribe empezar: \")\n",
    "while inicio == \"empezar\":\n",
    "    print(\"\"\"caminos a elegir\n",
    "    1 - saludame\n",
    "    2 - quiero multiplicar\n",
    "    3 - quiero sumar\n",
    "    4 - quiero cerrar el progarama\"\"\")\n",
    "    camino = input(\"elige un camino\")\n",
    "    if camino == \"1\":\n",
    "        print(\"hola\")\n",
    "    elif camino == \"2\":\n",
    "        num1 = float(input(\"pon el numero a multiplicar\"))\n",
    "        num2 = float(input(\"por cuanto lo quieres multiplicar\"))\n",
    "        print(\"el resultado es: \",num1*num2)\n",
    "    elif camino == \"3\":\n",
    "        num3 = float(input(\"pon el numero a sumar\"))\n",
    "        num4 = float(input(\"por cuanto lo quieres sumar\"))\n",
    "        print(\"el resultado es: \",num3+num4)\n",
    "    elif camino == \"4\":\n",
    "        print(\"cerrando, cerrando\")\n",
    "        break\n",
    "    else:\n",
    "        print(\"esa no es uena opcion\")    "
   ]
  },
  {
   "cell_type": "code",
   "execution_count": null,
   "metadata": {},
   "outputs": [],
   "source": []
  }
 ],
 "metadata": {
  "kernelspec": {
   "display_name": "Python 3",
   "language": "python",
   "name": "python3"
  },
  "language_info": {
   "codemirror_mode": {
    "name": "ipython",
    "version": 3
   },
   "file_extension": ".py",
   "mimetype": "text/x-python",
   "name": "python",
   "nbconvert_exporter": "python",
   "pygments_lexer": "ipython3",
   "version": "3.8.10"
  }
 },
 "nbformat": 4,
 "nbformat_minor": 4
}
