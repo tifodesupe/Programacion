{
 "cells": [
  {
   "cell_type": "code",
   "execution_count": 1,
   "metadata": {},
   "outputs": [],
   "source": [
    "def fun (*tu):\n",
    "    for h in tu:\n",
    "        print(h)"
   ]
  },
  {
   "cell_type": "code",
   "execution_count": 5,
   "metadata": {},
   "outputs": [
    {
     "name": "stdout",
     "output_type": "stream",
     "text": [
      "marvx\n",
      "27\n",
      "[5, 6, 7]\n",
      "1.2\n",
      "(1, '5348725')\n"
     ]
    }
   ],
   "source": [
    "d = \"5348725\"\n",
    "fun(\"marvx\",27,[5,6,7],1.2, (1,d))"
   ]
  },
  {
   "cell_type": "code",
   "execution_count": null,
   "metadata": {},
   "outputs": [],
   "source": []
  },
  {
   "cell_type": "code",
   "execution_count": 33,
   "metadata": {},
   "outputs": [],
   "source": [
    "def dev (*tu,**n):\n",
    "    b = 0\n",
    "    for h in tu:\n",
    "        b+=h\n",
    "    print(b)\n",
    "    for i in n:\n",
    "        print (\"var\",i, \"=\", n[i])"
   ]
  },
  {
   "cell_type": "code",
   "execution_count": 35,
   "metadata": {},
   "outputs": [
    {
     "name": "stdout",
     "output_type": "stream",
     "text": [
      "210\n",
      "var yo = Matías Mongua\n",
      "var el_mas_lindo = Matías Mongua\n"
     ]
    }
   ],
   "source": [
    "dev(1,2,3,4,5,6,7,8,9,10,11,12,13,14,15,16,17,18,19,20,yo=\"Matías Mongua\",el_mas_lindo=\"Matías Mongua\")"
   ]
  },
  {
   "cell_type": "code",
   "execution_count": null,
   "metadata": {},
   "outputs": [],
   "source": []
  },
  {
   "cell_type": "code",
   "execution_count": null,
   "metadata": {},
   "outputs": [],
   "source": []
  }
 ],
 "metadata": {
  "kernelspec": {
   "display_name": "Python 3",
   "language": "python",
   "name": "python3"
  },
  "language_info": {
   "codemirror_mode": {
    "name": "ipython",
    "version": 3
   },
   "file_extension": ".py",
   "mimetype": "text/x-python",
   "name": "python",
   "nbconvert_exporter": "python",
   "pygments_lexer": "ipython3",
   "version": "3.8.5"
  }
 },
 "nbformat": 4,
 "nbformat_minor": 4
}
