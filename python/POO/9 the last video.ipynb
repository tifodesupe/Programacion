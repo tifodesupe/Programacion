{
 "cells": [
  {
   "cell_type": "code",
   "execution_count": 18,
   "metadata": {},
   "outputs": [],
   "source": [
    "class Uno:\n",
    "    __sec_ = \"si lees esto eres un hacker o no\"\n",
    "    def __init__(self):\n",
    "        print(\"1\")\n",
    "    def uno(self):\n",
    "        print(\"HEREDADO DE UNO\")\n",
    "class Dos:\n",
    "    __sec2_ = \"si lees esto eres un hacker o no\"\n",
    "    def __init__(self):\n",
    "        print(\"2\")\n",
    "    def dos(self):\n",
    "        print(\"HEREDADO DE DOS\")\n",
    "class Tres(Uno, Dos):\n",
    "        def tres(self):\n",
    "            print(\"ORIGINAL DE TRES\")"
   ]
  },
  {
   "cell_type": "code",
   "execution_count": 19,
   "metadata": {},
   "outputs": [
    {
     "name": "stdout",
     "output_type": "stream",
     "text": [
      "1\n"
     ]
    }
   ],
   "source": [
    "tres = Tres()"
   ]
  },
  {
   "cell_type": "code",
   "execution_count": 23,
   "metadata": {},
   "outputs": [
    {
     "name": "stdout",
     "output_type": "stream",
     "text": [
      "ORIGINAL DE TRES\n"
     ]
    }
   ],
   "source": [
    "tres.tres()"
   ]
  },
  {
   "cell_type": "code",
   "execution_count": null,
   "metadata": {},
   "outputs": [],
   "source": []
  }
 ],
 "metadata": {
  "kernelspec": {
   "display_name": "Python 3",
   "language": "python",
   "name": "python3"
  },
  "language_info": {
   "codemirror_mode": {
    "name": "ipython",
    "version": 3
   },
   "file_extension": ".py",
   "mimetype": "text/x-python",
   "name": "python",
   "nbconvert_exporter": "python",
   "pygments_lexer": "ipython3",
   "version": "3.8.5"
  }
 },
 "nbformat": 4,
 "nbformat_minor": 4
}
