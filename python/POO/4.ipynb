{
 "cells": [
  {
   "cell_type": "code",
   "execution_count": 17,
   "metadata": {},
   "outputs": [],
   "source": [
    "class Carro:\n",
    "    def __init__(self,nombre,ruedas=4,tiempo=2,medida_de_tiempo=\"horas\"):\n",
    "        self.nombre = nombre\n",
    "        self.ruedas = ruedas\n",
    "        self.tiempo = tiempo\n",
    "        self.medida_de_tiempo = medida_de_tiempo\n",
    "        print(\"\"\"se\n",
    "creo\n",
    "el\n",
    "auto\n",
    "{}\n",
    "que\n",
    "tiene\n",
    "{}\n",
    "ruedas\n",
    "en\n",
    "{}\n",
    "{}\"\"\".format(self.nombre,self.ruedas,self.tiempo,self.medida_de_tiempo))\n",
    "    def __del__(self):\n",
    "        print(\"\"\"\n",
    "\n",
    "se\n",
    "elimino\n",
    "el\n",
    "auto\n",
    "{}\"\"\".format(self.nombre))\n",
    "    def __str__(self):\n",
    "        return \"NO\"\n",
    "    def __len__(self):\n",
    "        return \"el carro fue hecho en {} {}\".format(self.tiempo,self.medida_de_tiempo)"
   ]
  },
  {
   "cell_type": "code",
   "execution_count": 18,
   "metadata": {},
   "outputs": [
    {
     "name": "stdout",
     "output_type": "stream",
     "text": [
      "se\n",
      "creo\n",
      "el\n",
      "auto\n",
      "Matias\n",
      "que\n",
      "tiene\n",
      "4\n",
      "ruedas\n",
      "en\n",
      "8\n",
      "dias\n",
      "\n",
      "\n",
      "se\n",
      "elimino\n",
      "el\n",
      "auto\n",
      "Matias\n"
     ]
    }
   ],
   "source": [
    "carro = Carro(\"Matias\",4,8,\"dias\")"
   ]
  },
  {
   "cell_type": "code",
   "execution_count": 19,
   "metadata": {},
   "outputs": [
    {
     "name": "stdout",
     "output_type": "stream",
     "text": [
      "se\n",
      "creo\n",
      "el\n",
      "auto\n",
      "Matias\n",
      "que\n",
      "tiene\n",
      "0\n",
      "ruedas\n",
      "en\n",
      "1\n",
      "segundo\n",
      "\n",
      "\n",
      "se\n",
      "elimino\n",
      "el\n",
      "auto\n",
      "Matias\n"
     ]
    }
   ],
   "source": [
    "a = Carro(\"Matias\",0,1,\"segundo\")"
   ]
  },
  {
   "cell_type": "code",
   "execution_count": 20,
   "metadata": {},
   "outputs": [
    {
     "ename": "TypeError",
     "evalue": "'str' object cannot be interpreted as an integer",
     "output_type": "error",
     "traceback": [
      "\u001b[0;31m---------------------------------------------------------------------------\u001b[0m",
      "\u001b[0;31mTypeError\u001b[0m                                 Traceback (most recent call last)",
      "\u001b[0;32m<ipython-input-20-1a2e6ec5f1e3>\u001b[0m in \u001b[0;36m<module>\u001b[0;34m\u001b[0m\n\u001b[0;32m----> 1\u001b[0;31m \u001b[0mlen\u001b[0m\u001b[0;34m(\u001b[0m\u001b[0ma\u001b[0m\u001b[0;34m)\u001b[0m\u001b[0;34m\u001b[0m\u001b[0;34m\u001b[0m\u001b[0m\n\u001b[0m",
      "\u001b[0;31mTypeError\u001b[0m: 'str' object cannot be interpreted as an integer"
     ]
    }
   ],
   "source": [
    "len(a)"
   ]
  },
  {
   "cell_type": "code",
   "execution_count": null,
   "metadata": {},
   "outputs": [],
   "source": []
  }
 ],
 "metadata": {
  "kernelspec": {
   "display_name": "Python 3",
   "language": "python",
   "name": "python3"
  },
  "language_info": {
   "codemirror_mode": {
    "name": "ipython",
    "version": 3
   },
   "file_extension": ".py",
   "mimetype": "text/x-python",
   "name": "python",
   "nbconvert_exporter": "python",
   "pygments_lexer": "ipython3",
   "version": "3.8.5"
  }
 },
 "nbformat": 4,
 "nbformat_minor": 4
}
