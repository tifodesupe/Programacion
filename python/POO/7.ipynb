{
 "cells": [
  {
   "cell_type": "code",
   "execution_count": null,
   "metadata": {},
   "outputs": [],
   "source": [
    "class Carro:\n",
    "    def __init__(self,nombre,ruedas=4,tiempo=2,medida_de_tiempo=\"horas\",descripcion=None):\n",
    "        self.nombre = nombre\n",
    "        self.ruedas = ruedas\n",
    "        self.tiempo = tiempo\n",
    "        self.medida_de_tiempo = medida_de_tiempo\n",
    "        if descripcion is None:\n",
    "            descripcion = \"Auto normal con {} ruedas\".format(ruedas)\n",
    "        self.descripcion = descripcion\n",
    "        print(\"\"\"se creo el auto {} que tiene {} ruedas en {} {}| descripcion: {}\"\"\".format(self.nombre,self.ruedas, self.tiempo,self.medida_de_tiempo,self.descripcion))"
   ]
  },
  {
   "cell_type": "code",
   "execution_count": null,
   "metadata": {},
   "outputs": [],
   "source": [
    "class Carro:\n",
    "    def __init__(self,nombre,marca,precio,medida_de_precio,descripcion):\n",
    "        self.nombre = nombre\n",
    "        self.precio = precio\n",
    "        self.marca = marca\n",
    "        self.medida = medida_de_precio\n",
    "        self.descripcion = descripcion\n",
    "    def __str__(self):\n",
    "        return\"\"\"\n",
    "Nombre\\t{}\n",
    "Marca\\t{}\n",
    "Precio\\t{}{}\n",
    "Descripcion  {}\n",
    "\"\"\".format(self.nombre,self.marca,self.precio,self.medida,self.descripcion)\n",
    "    "
   ]
  },
  {
   "cell_type": "code",
   "execution_count": null,
   "metadata": {},
   "outputs": [],
   "source": [
    "class Auto(Carro):\n",
    "    pass"
   ]
  },
  {
   "cell_type": "code",
   "execution_count": null,
   "metadata": {},
   "outputs": [],
   "source": [
    "a = Auto(\"Pancho\",\"KIA\",1,\" dolar\",\"KIA pikanto modelo 2015\")"
   ]
  },
  {
   "cell_type": "code",
   "execution_count": null,
   "metadata": {},
   "outputs": [],
   "source": [
    "print(a)"
   ]
  },
  {
   "cell_type": "code",
   "execution_count": null,
   "metadata": {},
   "outputs": [],
   "source": [
    "class Otro_auto(Carro):\n",
    "    ruedas = None\n",
    "    def __str__(self):\n",
    "            return\"\"\"\n",
    "Nombre\\t{}\n",
    "Marca\\t{}\n",
    "Precio\\t{}{}\n",
    "Descripcion  {}\n",
    "ruedas\\t {}\n",
    "\"\"\".format(self.nombre,self.marca,self.precio,self.medida,self.descripcion,self.ruedas)\n",
    "    "
   ]
  },
  {
   "cell_type": "code",
   "execution_count": null,
   "metadata": {},
   "outputs": [],
   "source": [
    "o = Otro_auto(None,\"???\",100,\"dolares\",\"mi carro\")"
   ]
  },
  {
   "cell_type": "code",
   "execution_count": null,
   "metadata": {},
   "outputs": [],
   "source": [
    "o.ruedas = 3"
   ]
  },
  {
   "cell_type": "code",
   "execution_count": null,
   "metadata": {},
   "outputs": [],
   "source": [
    "print(o)"
   ]
  },
  {
   "cell_type": "code",
   "execution_count": null,
   "metadata": {},
   "outputs": [],
   "source": [
    "b = Otro_auto(None,\"???\",100,\"dolares\",\"mi carro\")\n",
    "print(b.ruedas)"
   ]
  },
  {
   "cell_type": "code",
   "execution_count": null,
   "metadata": {},
   "outputs": [],
   "source": []
  }
 ],
 "metadata": {
  "kernelspec": {
   "display_name": "Python 3",
   "language": "python",
   "name": "python3"
  },
  "language_info": {
   "codemirror_mode": {
    "name": "ipython",
    "version": 3
   },
   "file_extension": ".py",
   "mimetype": "text/x-python",
   "name": "python",
   "nbconvert_exporter": "python",
   "pygments_lexer": "ipython3",
   "version": "3.8.5"
  }
 },
 "nbformat": 4,
 "nbformat_minor": 4
}
