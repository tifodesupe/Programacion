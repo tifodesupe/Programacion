{
 "cells": [
  {
   "cell_type": "code",
   "execution_count": 57,
   "metadata": {},
   "outputs": [],
   "source": [
    "class Auto:\n",
    "    def __init__(self,puertas=4 ,color=\"rojo\"):\n",
    "        self.color = color\n",
    "        self.puertas = puertas\n",
    "        self.rojo = False\n",
    "        print(\"Tu carro se está creando tendra {} puertas sera de color {}\".format(puertas,color))\n",
    "        \n",
    "    def cosas(self):\n",
    "        print(\"tu carro ahora es de color {} y tiene {} puertas\".format(self.color,self.puertas))"
   ]
  },
  {
   "cell_type": "code",
   "execution_count": 60,
   "metadata": {},
   "outputs": [
    {
     "name": "stdout",
     "output_type": "stream",
     "text": [
      "Tu carro se está creando tendra 345873987538977385 puertas sera de color 8737242\n"
     ]
    }
   ],
   "source": [
    "auto = Auto(74, \"#234234\")"
   ]
  },
  {
   "cell_type": "code",
   "execution_count": 61,
   "metadata": {},
   "outputs": [
    {
     "name": "stdout",
     "output_type": "stream",
     "text": [
      "tu carro ahora es de color 8737242 y tiene 345873987538977385 puertas\n"
     ]
    }
   ],
   "source": [
    "auto.cosas()"
   ]
  },
  {
   "cell_type": "code",
   "execution_count": null,
   "metadata": {},
   "outputs": [],
   "source": []
  }
 ],
 "metadata": {
  "kernelspec": {
   "display_name": "Python 3",
   "language": "python",
   "name": "python3"
  },
  "language_info": {
   "codemirror_mode": {
    "name": "ipython",
    "version": 3
   },
   "file_extension": ".py",
   "mimetype": "text/x-python",
   "name": "python",
   "nbconvert_exporter": "python",
   "pygments_lexer": "ipython3",
   "version": "3.8.5"
  }
 },
 "nbformat": 4,
 "nbformat_minor": 4
}
