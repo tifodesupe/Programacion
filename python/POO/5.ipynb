{
 "cells": [
  {
   "cell_type": "code",
   "execution_count": 1,
   "metadata": {},
   "outputs": [],
   "source": [
    "class Carro:\n",
    "    def __init__(self,nombre,ruedas=4,tiempo=2,medida_de_tiempo=\"horas\"):\n",
    "        self.nombre = nombre\n",
    "        self.ruedas = ruedas\n",
    "        self.tiempo = tiempo\n",
    "        self.medida_de_tiempo = medida_de_tiempo\n",
    "        print(\"\"\"se creo el auto {}\"\"\".format(self.nombre))\n",
    "    def __str__(self):\n",
    "        return\"{} ({} {})\".format(self.nombre, self.tiempo,self.medida_de_tiempo)"
   ]
  },
  {
   "cell_type": "code",
   "execution_count": 10,
   "metadata": {},
   "outputs": [],
   "source": [
    "class Listado:\n",
    "    \n",
    "    autos =[]\n",
    "    def __init__(self, autos=[]):\n",
    "        self.autos = autos\n",
    "    def agregar(self,num):\n",
    "        self.autos.append(num)\n",
    "    def ver(self):\n",
    "        for x in self.autos:\n",
    "            print(x)"
   ]
  },
  {
   "cell_type": "code",
   "execution_count": 3,
   "metadata": {},
   "outputs": [],
   "source": [
    "autos = Listado()"
   ]
  },
  {
   "cell_type": "code",
   "execution_count": 4,
   "metadata": {},
   "outputs": [],
   "source": [
    "autos.agregar(74)"
   ]
  },
  {
   "cell_type": "code",
   "execution_count": 5,
   "metadata": {},
   "outputs": [],
   "source": [
    "autos.agregar(938)"
   ]
  },
  {
   "cell_type": "code",
   "execution_count": 6,
   "metadata": {},
   "outputs": [],
   "source": [
    "autos.agregar(8538)"
   ]
  },
  {
   "cell_type": "code",
   "execution_count": 7,
   "metadata": {},
   "outputs": [
    {
     "name": "stdout",
     "output_type": "stream",
     "text": [
      "74\n",
      "938\n",
      "8538\n"
     ]
    }
   ],
   "source": [
    "autos.ver()"
   ]
  },
  {
   "cell_type": "code",
   "execution_count": 8,
   "metadata": {},
   "outputs": [
    {
     "name": "stdout",
     "output_type": "stream",
     "text": [
      "se creo el auto Si\n"
     ]
    }
   ],
   "source": [
    "a = Carro(\"Si\", 0, 1,\"año\")"
   ]
  },
  {
   "cell_type": "code",
   "execution_count": 17,
   "metadata": {},
   "outputs": [
    {
     "name": "stdout",
     "output_type": "stream",
     "text": [
      "se creo el auto No\n"
     ]
    }
   ],
   "source": [
    "b = Carro(\"No\",827,0.01,\"segundos\")"
   ]
  },
  {
   "cell_type": "code",
   "execution_count": 18,
   "metadata": {},
   "outputs": [],
   "source": [
    "l = Listado([a])"
   ]
  },
  {
   "cell_type": "code",
   "execution_count": 19,
   "metadata": {},
   "outputs": [],
   "source": [
    "l.agregar(b)"
   ]
  },
  {
   "cell_type": "code",
   "execution_count": 20,
   "metadata": {},
   "outputs": [
    {
     "name": "stdout",
     "output_type": "stream",
     "text": [
      "Si (1 año)\n",
      "No (0.01 segundos)\n"
     ]
    }
   ],
   "source": [
    "l.ver()"
   ]
  },
  {
   "cell_type": "code",
   "execution_count": null,
   "metadata": {},
   "outputs": [],
   "source": []
  }
 ],
 "metadata": {
  "kernelspec": {
   "display_name": "Python 3",
   "language": "python",
   "name": "python3"
  },
  "language_info": {
   "codemirror_mode": {
    "name": "ipython",
    "version": 3
   },
   "file_extension": ".py",
   "mimetype": "text/x-python",
   "name": "python",
   "nbconvert_exporter": "python",
   "pygments_lexer": "ipython3",
   "version": "3.8.5"
  }
 },
 "nbformat": 4,
 "nbformat_minor": 4
}
