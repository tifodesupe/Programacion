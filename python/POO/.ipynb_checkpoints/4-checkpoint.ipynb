{
 "cells": [
  {
   "cell_type": "code",
   "execution_count": 5,
   "metadata": {},
   "outputs": [],
   "source": [
    "class Carro:\n",
    "    def __init__(self,nombre,ruedas=4,tiempo=2,medida_de_tiempo=\"horas\"):\n",
    "        self.nombre = nombre\n",
    "        self.ruedas = ruedas\n",
    "        self.tiempo = tiempo\n",
    "        self.medida_de_tiempo = medida_de_tiempo\n",
    "        print(\"\"\"se\n",
    "creo\n",
    "el\n",
    "auto\n",
    "{}\n",
    "que\n",
    "tiene\n",
    "{}\n",
    "ruedas\n",
    "en\n",
    "{}\n",
    "{}\"\"\".format(self.nombre,self.ruedas,self.tiempo,self.medida_de_tiempo))\n",
    "    def __del__(self):\n",
    "        print(\"\"\"\n",
    "\n",
    "se\n",
    "elimino\n",
    "el\n",
    "auto\n",
    "{}\"\"\".format(self.nombre))\n",
    "    def __str__(self):\n",
    "        return \"NO\"\n",
    "    def __len__(self):\n",
    "        return \"el carro fue hecho en {} {}\".format(self.tiempo,self.medida_de_tiempo)"
   ]
  },
  {
   "cell_type": "code",
   "execution_count": 6,
   "metadata": {},
   "outputs": [
    {
     "name": "stdout",
     "output_type": "stream",
     "text": [
      "se\n",
      "creo\n",
      "el\n",
      "auto\n",
      "Matias\n",
      "que\n",
      "tiene\n",
      "4\n",
      "ruedas\n",
      "en\n",
      "8\n",
      "dias\n",
      "\n",
      "\n",
      "se\n",
      "elimino\n",
      "el\n",
      "auto\n",
      "Matias\n"
     ]
    }
   ],
   "source": [
    "carro = Carro(\"Matias\",4,8,\"dias\")"
   ]
  },
  {
   "cell_type": "code",
   "execution_count": 7,
   "metadata": {},
   "outputs": [
    {
     "name": "stdout",
     "output_type": "stream",
     "text": [
      "se\n",
      "creo\n",
      "el\n",
      "auto\n",
      "Matias\n",
      "que\n",
      "tiene\n",
      "0\n",
      "ruedas\n",
      "en\n",
      "1\n",
      "segundo\n",
      "\n",
      "\n",
      "se\n",
      "elimino\n",
      "el\n",
      "auto\n",
      "Matias\n"
     ]
    }
   ],
   "source": [
    "a = Carro(\"Matias\",0,1,\"segundo\")"
   ]
  },
  {
   "cell_type": "code",
   "execution_count": 8,
   "metadata": {},
   "outputs": [
    {
     "data": {
      "text/plain": [
       "'NO'"
      ]
     },
     "execution_count": 8,
     "metadata": {},
     "output_type": "execute_result"
    }
   ],
   "source": [
    "str(a)"
   ]
  },
  {
   "cell_type": "code",
   "execution_count": null,
   "metadata": {},
   "outputs": [],
   "source": []
  }
 ],
 "metadata": {
  "kernelspec": {
   "display_name": "Python 3",
   "language": "python",
   "name": "python3"
  },
  "language_info": {
   "codemirror_mode": {
    "name": "ipython",
    "version": 3
   },
   "file_extension": ".py",
   "mimetype": "text/x-python",
   "name": "python",
   "nbconvert_exporter": "python",
   "pygments_lexer": "ipython3",
   "version": "3.8.5"
  }
 },
 "nbformat": 4,
 "nbformat_minor": 4
}
