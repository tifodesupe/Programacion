{
 "cells": [
  {
   "cell_type": "code",
   "execution_count": 18,
   "metadata": {},
   "outputs": [],
   "source": [
    "class Carro:\n",
    "    def __init__(self,nombre,marca,precio,medida_de_precio,descripcion):\n",
    "        self.nombre = nombre\n",
    "        self.precio = precio\n",
    "        self.marca = marca\n",
    "        self.medida = medida_de_precio\n",
    "        self.descripcion = descripcion\n",
    "    def __str__(self):\n",
    "        return\"\"\"\n",
    "Nombre\\t\\t{}\n",
    "Marca\\t\\t{}\n",
    "Precio\\t\\t{}{}\n",
    "Descripcion\\t{}\n",
    "\"\"\".format(self.nombre,self.marca,self.precio,self.medida,self.descripcion)"
   ]
  },
  {
   "cell_type": "code",
   "execution_count": 19,
   "metadata": {},
   "outputs": [],
   "source": [
    "class Auto(Carro):\n",
    "    pass"
   ]
  },
  {
   "cell_type": "code",
   "execution_count": 20,
   "metadata": {},
   "outputs": [],
   "source": [
    "class Autos(Carro):\n",
    "    creador = \"\"\n",
    "    usuario = \"\"\n",
    "    def __str__(self):\n",
    "        return\"\"\"\\\n",
    "Nombre\\t\\t{}\n",
    "Marca\\t\\t{}\n",
    "Precio\\t\\t{}{}\n",
    "Descripcion\\t{}\n",
    "Creador\\t\\t{}\n",
    "Usuario\\t\\t{}\n",
    "\"\"\".format(self.nombre,self.marca,self.precio,self.medida,self.descripcion,self.creador,self.usuario)"
   ]
  },
  {
   "cell_type": "code",
   "execution_count": 44,
   "metadata": {},
   "outputs": [],
   "source": [
    "class Otro_auto(Carro):\n",
    "    def __str__(self):\n",
    "        self.ruedas = 4\n",
    "        return\"\"\"\n",
    "Nombre\\t\\t{}\n",
    "Marca\\t\\t{}\n",
    "Precio\\t\\t{}{}\n",
    "Descripciont\\t{}\n",
    "ruedas\\t\\t{}\n",
    "\"\"\".format(self.nombre,self.marca,self.precio,self.medida,self.descripcion,self.ruedas)"
   ]
  },
  {
   "cell_type": "code",
   "execution_count": 58,
   "metadata": {},
   "outputs": [],
   "source": [
    "a = Auto(\"Pancho\",\"KIA\",10000,\" dolar\",\"une carro\")\n",
    "\n",
    "o = Otro_auto(\"TNT\",\"Carros4ESver\",100,\" dolares\",\"two carro\")\n",
    "o.ruedas = 3\n",
    "\n",
    "s = Autos(\"NTN\",\"KK\",3000,\" dolar\",\"auto normal\")\n",
    "s.creador = 'no se'\n",
    "s.usuario= \"tampoco se\""
   ]
  },
  {
   "cell_type": "code",
   "execution_count": 59,
   "metadata": {},
   "outputs": [],
   "source": [
    "f = [a,o]\n",
    "f.append(s)"
   ]
  },
  {
   "cell_type": "code",
   "execution_count": 60,
   "metadata": {},
   "outputs": [
    {
     "name": "stdout",
     "output_type": "stream",
     "text": [
      "\n",
      "Nombre\t\tPancho\n",
      "Marca\t\tKIA\n",
      "Precio\t\t10000 dolar\n",
      "Descripcion\tune carro\n",
      " \n",
      "\n",
      "\n",
      "Nombre\t\tTNT\n",
      "Marca\t\tCarros4ESver\n",
      "Precio\t\t100 dolares\n",
      "Descripciont\ttwo carro\n",
      "ruedas\t\t4\n",
      " \n",
      "\n",
      "Nombre\t\tNTN\n",
      "Marca\t\tKK\n",
      "Precio\t\t3000 dolar\n",
      "Descripcion\tauto normal\n",
      "Creador\t\tno se\n",
      "Usuario\t\ttampoco se\n",
      " \n",
      "\n"
     ]
    }
   ],
   "source": [
    "for n in f:\n",
    "    print(n,\"\\n\")"
   ]
  },
  {
   "cell_type": "code",
   "execution_count": 61,
   "metadata": {},
   "outputs": [
    {
     "name": "stdout",
     "output_type": "stream",
     "text": [
      "KIA 10000  dolar\n",
      "Carros4ESver 100  dolares\n",
      "KK 3000  dolar\n"
     ]
    }
   ],
   "source": [
    "for n in f:\n",
    "    print(n.marca,n.precio,n.medida)"
   ]
  },
  {
   "cell_type": "code",
   "execution_count": 62,
   "metadata": {},
   "outputs": [
    {
     "name": "stdout",
     "output_type": "stream",
     "text": [
      "KIA Pancho\n",
      "Carros4ESver TNT 4\n",
      "KK NTN no se tampoco se\n"
     ]
    }
   ],
   "source": [
    "for n in f:\n",
    "    if isinstance(n, Auto):\n",
    "        print(n.marca,n.nombre)\n",
    "    elif isinstance(n, Otro_auto):\n",
    "        print(n.marca,n.nombre,n.ruedas)\n",
    "    elif isinstance(n, Autos):\n",
    "        print(n.marca,n.nombre,n.creador,n.usuario)"
   ]
  },
  {
   "cell_type": "code",
   "execution_count": 64,
   "metadata": {},
   "outputs": [],
   "source": [
    "def des_auto(t, des):\n",
    "    \n",
    "    t.precio = t.precio - (t.precio/100*des)"
   ]
  },
  {
   "cell_type": "code",
   "execution_count": 68,
   "metadata": {},
   "outputs": [],
   "source": [
    "des_auto(s, 10)"
   ]
  },
  {
   "cell_type": "code",
   "execution_count": null,
   "metadata": {},
   "outputs": [],
   "source": []
  }
 ],
 "metadata": {
  "kernelspec": {
   "display_name": "Python 3",
   "language": "python",
   "name": "python3"
  },
  "language_info": {
   "codemirror_mode": {
    "name": "ipython",
    "version": 3
   },
   "file_extension": ".py",
   "mimetype": "text/x-python",
   "name": "python",
   "nbconvert_exporter": "python",
   "pygments_lexer": "ipython3",
   "version": "3.8.5"
  }
 },
 "nbformat": 4,
 "nbformat_minor": 4
}
