{
 "cells": [
  {
   "cell_type": "code",
   "execution_count": 1,
   "metadata": {},
   "outputs": [
    {
     "name": "stdout",
     "output_type": "stream",
     "text": [
      "num es: 106\n",
      "num es: 101\n",
      "num es: 96\n",
      "num es: 91\n",
      "num es: 86\n",
      "num es: 81\n",
      "num es: 76\n",
      "num es: 71\n",
      "num es: 66\n",
      "num es: 61\n",
      "num es: 56\n",
      "num es: 51\n",
      "num es: 46\n",
      "num es: 41\n",
      "num es: 36\n",
      "num es: 31\n",
      "num es: 26\n",
      "num es: 21\n",
      "num es: 16\n",
      "num es: 11\n",
      "num es: 6\n",
      "num es: 1\n",
      "num es: -4\n",
      "se acabo\n"
     ]
    }
   ],
   "source": [
    "num = 111\n",
    "while num >= 0:\n",
    "    num -= 5\n",
    "    print(\"num es:\",num)\n",
    "else:\n",
    "    print(\"se acabo\")"
   ]
  },
  {
   "cell_type": "code",
   "execution_count": 4,
   "metadata": {},
   "outputs": [
    {
     "name": "stdout",
     "output_type": "stream",
     "text": [
      "num es: 106\n",
      "num es: 101\n",
      "num es: 96\n",
      "num es: 91\n",
      "num es: 86\n",
      "num es: 81\n",
      "num es: 76\n",
      "num es: 71\n",
      "num es: 66\n",
      "num es: 61\n",
      "num es: 56\n",
      "num es: 51\n",
      "num es: 46\n",
      "num es: 41\n",
      "num es: 36\n",
      "num es: 31\n",
      "num es: 26\n",
      "num es: 21\n",
      "num es: 16\n",
      "num es: 11\n"
     ]
    }
   ],
   "source": [
    "num = 111\n",
    "while num >= 0:\n",
    "    num -= 5\n",
    "    if num <= 9:\n",
    "        break\n",
    "    print(\"num es:\",num)\n",
    "else:\n",
    "    print(\"se acabo\")"
   ]
  },
  {
   "cell_type": "code",
   "execution_count": 6,
   "metadata": {},
   "outputs": [
    {
     "ename": "NameError",
     "evalue": "name 'archivo' is not defined",
     "output_type": "error",
     "traceback": [
      "\u001b[0;31m---------------------------------------------------------------------------\u001b[0m",
      "\u001b[0;31mNameError\u001b[0m                                 Traceback (most recent call last)",
      "\u001b[0;32m<ipython-input-6-fc3f35d78040>\u001b[0m in \u001b[0;36m<module>\u001b[0;34m\u001b[0m\n\u001b[0;32m----> 1\u001b[0;31m \u001b[0mlinea\u001b[0m \u001b[0;34m=\u001b[0m \u001b[0marchivo\u001b[0m\u001b[0;34m.\u001b[0m\u001b[0mleerlinea\u001b[0m\u001b[0;34m(\u001b[0m\u001b[0;34m)\u001b[0m\u001b[0;34m\u001b[0m\u001b[0;34m\u001b[0m\u001b[0m\n\u001b[0m\u001b[1;32m      2\u001b[0m \u001b[0;32mwhile\u001b[0m \u001b[0;32mnot\u001b[0m \u001b[0mlinea\u001b[0m\u001b[0;34m.\u001b[0m\u001b[0mcontiene\u001b[0m\u001b[0;34m(\u001b[0m\u001b[0;34m\"Matias\"\u001b[0m\u001b[0;34m)\u001b[0m\u001b[0;34m:\u001b[0m\u001b[0;34m\u001b[0m\u001b[0;34m\u001b[0m\u001b[0m\n\u001b[1;32m      3\u001b[0m     \u001b[0mprint\u001b[0m\u001b[0;34m(\u001b[0m\u001b[0mlinea\u001b[0m\u001b[0;34m)\u001b[0m\u001b[0;34m\u001b[0m\u001b[0;34m\u001b[0m\u001b[0m\n\u001b[1;32m      4\u001b[0m     \u001b[0mlinea\u001b[0m \u001b[0;34m=\u001b[0m \u001b[0marchivo\u001b[0m\u001b[0;34m.\u001b[0m\u001b[0mleerlinea\u001b[0m\u001b[0;34m(\u001b[0m\u001b[0;34m)\u001b[0m\u001b[0;34m\u001b[0m\u001b[0;34m\u001b[0m\u001b[0m\n",
      "\u001b[0;31mNameError\u001b[0m: name 'archivo' is not defined"
     ]
    }
   ],
   "source": [
    "linea = archivo.leerlinea()\n",
    "while not linea.contiene(\"Matias\"):\n",
    "    print(linea)\n",
    "    linea = archivo.leerlinea()"
   ]
  },
  {
   "cell_type": "code",
   "execution_count": null,
   "metadata": {},
   "outputs": [],
   "source": []
  }
 ],
 "metadata": {
  "kernelspec": {
   "display_name": "Python 3",
   "language": "python",
   "name": "python3"
  },
  "language_info": {
   "codemirror_mode": {
    "name": "ipython",
    "version": 3
   },
   "file_extension": ".py",
   "mimetype": "text/x-python",
   "name": "python",
   "nbconvert_exporter": "python",
   "pygments_lexer": "ipython3",
   "version": "3.8.5"
  }
 },
 "nbformat": 4,
 "nbformat_minor": 4
}
