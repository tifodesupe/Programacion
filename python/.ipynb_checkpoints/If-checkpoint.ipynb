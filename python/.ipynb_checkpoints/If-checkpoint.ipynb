{
 "cells": [
  {
   "cell_type": "code",
   "execution_count": 1,
   "metadata": {},
   "outputs": [
    {
     "name": "stdout",
     "output_type": "stream",
     "text": [
      "Matías NO se come los mocos\n"
     ]
    }
   ],
   "source": [
    "if True:\n",
    "    print(\"Matías NO se come los mocos\")"
   ]
  },
  {
   "cell_type": "code",
   "execution_count": 3,
   "metadata": {},
   "outputs": [
    {
     "name": "stdout",
     "output_type": "stream",
     "text": [
      "Matías NO se come los mocos\n"
     ]
    }
   ],
   "source": [
    "if True:\n",
    "    print(\"Matías NO se come los mocos\")"
   ]
  },
  {
   "cell_type": "code",
   "execution_count": 5,
   "metadata": {},
   "outputs": [],
   "source": [
    "if False:\n",
    "    print(\"Matías NO se come los mocos\")"
   ]
  },
  {
   "cell_type": "code",
   "execution_count": 6,
   "metadata": {},
   "outputs": [],
   "source": [
    "var = 0\n",
    "let = 1\n",
    "true = True\n",
    "if var:\n",
    "    print(true)"
   ]
  },
  {
   "cell_type": "code",
   "execution_count": 8,
   "metadata": {},
   "outputs": [
    {
     "name": "stdout",
     "output_type": "stream",
     "text": [
      "True\n"
     ]
    }
   ],
   "source": [
    "if let:\n",
    "    print(true)"
   ]
  },
  {
   "cell_type": "code",
   "execution_count": 34,
   "metadata": {},
   "outputs": [
    {
     "name": "stdout",
     "output_type": "stream",
     "text": [
      "coloca la nota:9\n"
     ]
    }
   ],
   "source": [
    "nota = float(input(\"coloca la nota:\"))"
   ]
  },
  {
   "cell_type": "code",
   "execution_count": 15,
   "metadata": {},
   "outputs": [
    {
     "name": "stdout",
     "output_type": "stream",
     "text": [
      "hay un helado\n"
     ]
    }
   ],
   "source": [
    "ver = \"helado\"\n",
    "if ver == \"helados\":\n",
    "    print (\"hay dos helados\")\n",
    "else:\n",
    "    print(\"hay un helado\")"
   ]
  },
  {
   "cell_type": "code",
   "execution_count": 17,
   "metadata": {},
   "outputs": [
    {
     "name": "stdout",
     "output_type": "stream",
     "text": [
      "no\n",
      "si\n"
     ]
    }
   ],
   "source": [
    "if \"no\" == \"no\":\n",
    "    print(\"no\")\n",
    "    print(\"si\")"
   ]
  },
  {
   "cell_type": "code",
   "execution_count": 36,
   "metadata": {},
   "outputs": [
    {
     "name": "stdout",
     "output_type": "stream",
     "text": [
      "eres un genio\n"
     ]
    }
   ],
   "source": [
    "if nota >= 9:\n",
    "    print(\"eres un genio\")\n",
    "elif nota >= 7:\n",
    "    print(\"Aprobado\")\n",
    "elif nota == 6:\n",
    "    print(\"por poco\")\n",
    "elif nota <= 5:\n",
    "    print(\"estudia python\")\n",
    "else:\n",
    "    print(\"No puedo leer tu nota así que Aprobaste\")"
   ]
  },
  {
   "cell_type": "code",
   "execution_count": 39,
   "metadata": {},
   "outputs": [
    {
     "name": "stdout",
     "output_type": "stream",
     "text": [
      "pasaste el curso\n"
     ]
    }
   ],
   "source": [
    "if nota >= 7:\n",
    "    print(\"pasaste el curso\")\n",
    "else:\n",
    "    print(\"repruebas\")"
   ]
  },
  {
   "cell_type": "code",
   "execution_count": null,
   "metadata": {},
   "outputs": [],
   "source": []
  }
 ],
 "metadata": {
  "kernelspec": {
   "display_name": "Python 3",
   "language": "python",
   "name": "python3"
  },
  "language_info": {
   "codemirror_mode": {
    "name": "ipython",
    "version": 3
   },
   "file_extension": ".py",
   "mimetype": "text/x-python",
   "name": "python",
   "nbconvert_exporter": "python",
   "pygments_lexer": "ipython3",
   "version": "3.8.5"
  }
 },
 "nbformat": 4,
 "nbformat_minor": 4
}
