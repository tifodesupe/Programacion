{
 "cells": [
  {
   "cell_type": "code",
   "execution_count": null,
   "metadata": {},
   "outputs": [],
   "source": [
    "print(\"aventura\")\n",
    "inicio = input(\"escribe empesar: \")\n",
    "while inicio == \"empesar\":\n",
    "    print(\"\"\"caminos a elegir\n",
    "    1 - saludame\n",
    "    2 - quiero multiplicar\n",
    "    3 - quiero sumar\n",
    "    4 - quiero cerrar el progarama\"\"\")\n",
    "    camino = imput(\"elige un camino\")\n",
    "    if camino == \"1\":\n",
    "        print(\"hola\")\n",
    "    elif camino == \"2\":\n",
    "        num1 = input(\"pon el numero a multiplicar\")\n",
    "        num2 = input(\"por cuanto lo quieres multiplicar\")\n",
    "        print(\"el resultado es: \" num)\n",
    "    elif camino == \"3\":\n",
    "        num3 = input(\"pon el numero a sumar\")\n",
    "        num4 = input(\"por cuanto lo quieres sumar\")\n",
    "    elif camino == \"4\":\n",
    "        print(\"cerrando, cerrando\")\n",
    "        break\n",
    "    else:\n",
    "        print(\"esa no es una opcion\")"
   ]
  }
 ],
 "metadata": {
  "kernelspec": {
   "display_name": "Python 3",
   "language": "python",
   "name": "python3"
  },
  "language_info": {
   "codemirror_mode": {
    "name": "ipython",
    "version": 3
   },
   "file_extension": ".py",
   "mimetype": "text/x-python",
   "name": "python",
   "nbconvert_exporter": "python",
   "pygments_lexer": "ipython3",
   "version": "3.8.5"
  }
 },
 "nbformat": 4,
 "nbformat_minor": 4
}
