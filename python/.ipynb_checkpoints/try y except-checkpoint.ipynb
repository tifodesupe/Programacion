{
 "cells": [
  {
   "cell_type": "code",
   "execution_count": 33,
   "metadata": {},
   "outputs": [
    {
     "name": "stdout",
     "output_type": "stream",
     "text": [
      "Introduce un num por favor,\n",
      "No ingresaste lo que te pedi con por favor \n"
     ]
    }
   ],
   "source": [
    "try:\n",
    "    var = float(input(\"Introduce un num por favor\"))\n",
    "    a = 2\n",
    "    print(\"El resultado es: \", a*var)\n",
    "except:\n",
    "    print(\"No ingresaste lo que te pedi con por favor \")"
   ]
  },
  {
   "cell_type": "code",
   "execution_count": 34,
   "metadata": {},
   "outputs": [],
   "source": [
    "def division(x,  y):\n",
    "    try:\n",
    "        return x / y\n",
    "    except ZeroDivisionError:\n",
    "        if x == 0:\n",
    "            return 1\n",
    "        print(\"No se puede dividir por cero, se retorna un numero grande\")\n",
    "        return 9e99\n",
    "    except TypeError:\n",
    "        print(\"Solo puedo dividir números, se retorna 0\")\n",
    "        return 0\n",
    "    "
   ]
  },
  {
   "cell_type": "code",
   "execution_count": 35,
   "metadata": {},
   "outputs": [
    {
     "name": "stdout",
     "output_type": "stream",
     "text": [
      "2.0\n"
     ]
    }
   ],
   "source": [
    "print(division(4, 2))"
   ]
  },
  {
   "cell_type": "code",
   "execution_count": 36,
   "metadata": {},
   "outputs": [
    {
     "name": "stdout",
     "output_type": "stream",
     "text": [
      "No se puede dividir por cero, se retorna un numero grande\n",
      "9e+99\n"
     ]
    }
   ],
   "source": [
    "print(division(4, 0))"
   ]
  },
  {
   "cell_type": "code",
   "execution_count": 28,
   "metadata": {},
   "outputs": [
    {
     "name": "stdout",
     "output_type": "stream",
     "text": [
      "Solo puedo dividir números\n",
      "None\n"
     ]
    }
   ],
   "source": [
    "print(division(4, '1'))"
   ]
  },
  {
   "cell_type": "code",
   "execution_count": 38,
   "metadata": {},
   "outputs": [
    {
     "name": "stdout",
     "output_type": "stream",
     "text": [
      "No se puede dividir por cero, se retorna un numero grande\n",
      "9e+99\n"
     ]
    }
   ],
   "source": [
    "v = 0\n",
    "a = 0\n",
    "print(division(a, v))"
   ]
  },
  {
   "cell_type": "code",
   "execution_count": null,
   "metadata": {},
   "outputs": [],
   "source": []
  },
  {
   "cell_type": "code",
   "execution_count": null,
   "metadata": {},
   "outputs": [],
   "source": []
  }
 ],
 "metadata": {
  "kernelspec": {
   "display_name": "Python 3",
   "language": "python",
   "name": "python3"
  },
  "language_info": {
   "codemirror_mode": {
    "name": "ipython",
    "version": 3
   },
   "file_extension": ".py",
   "mimetype": "text/x-python",
   "name": "python",
   "nbconvert_exporter": "python",
   "pygments_lexer": "ipython3",
   "version": "3.8.5"
  }
 },
 "nbformat": 4,
 "nbformat_minor": 4
}
